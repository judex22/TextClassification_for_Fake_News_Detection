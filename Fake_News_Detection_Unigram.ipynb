{
  "cells": [
    {
      "cell_type": "markdown",
      "metadata": {
        "id": "view-in-github",
        "colab_type": "text"
      },
      "source": [
        "<a href=\"https://colab.research.google.com/github/judex22/TextClassification_for_Fake_News_Detection/blob/main/Fake_News_Detection_Unigram.ipynb\" target=\"_parent\"><img src=\"https://colab.research.google.com/assets/colab-badge.svg\" alt=\"Open In Colab\"/></a>"
      ]
    },
    {
      "cell_type": "markdown",
      "metadata": {
        "id": "9biE-m-rhbSK"
      },
      "source": [
        "# NLP Assignment 1 (40% of grade): Text classification for Fake News Detection (Unigram Binary BOW)\n",
        "\n",
        "This coursework will involve you implementing functions for a text classifier, which you will train to detect **fake news** in a corpus of approx. 10,000 statements, which will be split into a 80%/20% training/test split.\n",
        "\n",
        "In this template you are given the basis for that implementation, though some of the functions are missing, which you have to fill in.\n",
        "\n",
        "Follow the instructions file **NLP_Assignment_1_Instructions.pdf** for details of each question - the outline of what needs to be achieved for each question is as below.\n",
        "\n",
        "You must submit all **ipython notebooks and extra resources you need to run the code if you've added them** in the code submission, and a **2 page report (pdf)** in the report submission on QMPlus where you report your methods and findings according to the instructions file for each question."
      ]
    },
    {
      "cell_type": "code",
      "execution_count": null,
      "metadata": {
        "id": "2jUdMcZuhbSM",
        "outputId": "c594c78b-61c9-4a2a-b019-146f374f39a4"
      },
      "outputs": [
        {
          "name": "stdout",
          "output_type": "stream",
          "text": [
            "Requirement already satisfied: nltk in c:\\users\\jude sequeira\\anaconda3\\lib\\site-packages (3.7)\n",
            "Requirement already satisfied: click in c:\\users\\jude sequeira\\anaconda3\\lib\\site-packages (from nltk) (8.0.4)\n",
            "Requirement already satisfied: regex>=2021.8.3 in c:\\users\\jude sequeira\\anaconda3\\lib\\site-packages (from nltk) (2022.3.15)\n",
            "Requirement already satisfied: tqdm in c:\\users\\jude sequeira\\anaconda3\\lib\\site-packages (from nltk) (4.64.0)\n",
            "Requirement already satisfied: joblib in c:\\users\\jude sequeira\\anaconda3\\lib\\site-packages (from nltk) (1.1.0)\n",
            "Requirement already satisfied: colorama in c:\\users\\jude sequeira\\anaconda3\\lib\\site-packages (from click->nltk) (0.4.4)\n"
          ]
        }
      ],
      "source": [
        "!pip install nltk"
      ]
    },
    {
      "cell_type": "code",
      "execution_count": null,
      "metadata": {
        "id": "LdLBbo6nhbSO",
        "outputId": "bb88f4d5-88e1-462b-9fa6-879f82b7b1dd"
      },
      "outputs": [
        {
          "name": "stderr",
          "output_type": "stream",
          "text": [
            "[nltk_data] Downloading package stopwords to C:\\Users\\jude\n",
            "[nltk_data]     sequeira\\AppData\\Roaming\\nltk_data...\n",
            "[nltk_data]   Package stopwords is already up-to-date!\n",
            "[nltk_data] Downloading package punkt to C:\\Users\\jude\n",
            "[nltk_data]     sequeira\\AppData\\Roaming\\nltk_data...\n",
            "[nltk_data]   Package punkt is already up-to-date!\n",
            "[nltk_data] Downloading package wordnet to C:\\Users\\jude\n",
            "[nltk_data]     sequeira\\AppData\\Roaming\\nltk_data...\n",
            "[nltk_data]   Package wordnet is already up-to-date!\n",
            "[nltk_data] Downloading package omw-1.4 to C:\\Users\\jude\n",
            "[nltk_data]     sequeira\\AppData\\Roaming\\nltk_data...\n",
            "[nltk_data]   Package omw-1.4 is already up-to-date!\n"
          ]
        },
        {
          "data": {
            "text/plain": [
              "True"
            ]
          },
          "execution_count": 16,
          "metadata": {},
          "output_type": "execute_result"
        }
      ],
      "source": [
        "import csv                               # csv reader\n",
        "from sklearn.svm import LinearSVC\n",
        "from nltk.classify import SklearnClassifier\n",
        "from sklearn.pipeline import Pipeline\n",
        "from sklearn.metrics import precision_recall_fscore_support # to report on precision and recall\n",
        "import numpy as np\n",
        "\n",
        "import nltk\n",
        "nltk.download('stopwords')\n",
        "from nltk.corpus import stopwords\n",
        "from nltk.stem import WordNetLemmatizer\n",
        "from nltk.tokenize import word_tokenize\n",
        "from sklearn.metrics import accuracy_score\n",
        "nltk.download('punkt')\n",
        "nltk.download('wordnet')\n",
        "nltk.download('omw-1.4')"
      ]
    },
    {
      "cell_type": "code",
      "execution_count": null,
      "metadata": {
        "id": "bGhX4jxjhbSO"
      },
      "outputs": [],
      "source": [
        "def load_data(path):\n",
        "    \"\"\"Load data from a tab-separated file and append it to raw_data.\"\"\"\n",
        "    with open(path,encoding='utf-8') as f:\n",
        "        reader = csv.reader(f, delimiter='\\t')\n",
        "        for line in reader:\n",
        "            if line[0] == \"Id\":  # skip header\n",
        "                continue\n",
        "            (label, text) = parse_data_line(line)\n",
        "            raw_data.append((text, label))\n",
        "\n",
        "\n",
        "\n",
        "\n",
        "def split_and_preprocess_data(percentage):\n",
        "    \"\"\"Split the data between train_data and test_data according to the percentage\n",
        "    and performs the preprocessing.\"\"\"\n",
        "    num_samples = len(raw_data)\n",
        "    num_training_samples = int((percentage * num_samples))\n",
        "    for (text, label) in raw_data[:num_training_samples]:\n",
        "        train_data.append((to_feature_vector(pre_process(text)),label))\n",
        "    print(train_data[0])\n",
        "    for (text, label) in raw_data[num_training_samples:]:\n",
        "        test_data.append((to_feature_vector(pre_process(text)),label))\n"
      ]
    },
    {
      "cell_type": "markdown",
      "metadata": {
        "id": "BEUhNUyehbSO"
      },
      "source": [
        "# Question 1: Input and Basic preprocessing (10 marks)"
      ]
    },
    {
      "cell_type": "code",
      "execution_count": null,
      "metadata": {
        "id": "iRf0M7j-hbSO"
      },
      "outputs": [],
      "source": [
        "def convert_label(label):\n",
        "    \"\"\"Converts the multiple classes into two,\n",
        "    making it a binary distinction between fake news and real.\"\"\"\n",
        "    #return label\n",
        "    # Converting the multiclass labels to binary label\n",
        "    labels_map = {\n",
        "        'true': 'REAL',\n",
        "        'mostly-true': 'REAL',\n",
        "        'half-true': 'REAL',\n",
        "        'false': 'FAKE',\n",
        "        'barely-true': 'FAKE',\n",
        "        'pants-fire': 'FAKE'\n",
        "    }\n",
        "    return labels_map[label]\n",
        "\n",
        "\n",
        "def parse_data_line(data_line):\n",
        "    # Should return a tuple of the label as just FAKE or REAL and the statement\n",
        "    # e.g. (label, statement)\n",
        "    l=data_line[1]\n",
        "\n",
        "\n",
        "    if (l==\"true\")or(l==\"mostly-true\")or(l==\"half-true\")or(l==\"false\")or(l==\"barely-true\")or(l==\"pants-fire\"):\n",
        "        Label=convert_label(l)\n",
        "        sent=data_line[2]\n",
        "\n",
        "    return (Label,sent)"
      ]
    },
    {
      "cell_type": "code",
      "execution_count": null,
      "metadata": {
        "id": "lU73oK5chbSP"
      },
      "outputs": [],
      "source": [
        "import string\n",
        "import regex as re\n",
        "\n",
        "# Input: a string of one statement\n",
        "def pre_process(text):\n",
        "    # Should return a list of tokens\n",
        "    # DESCRIBE YOUR METHOD IN WORDS\n",
        "\n",
        "    text=text.translate(str.maketrans('','',string.punctuation))\n",
        "    tokens = re.split(r\"\\s+\",text)\n",
        "    tokens= [x.lower() for x in tokens]\n",
        "\n",
        "\n",
        "    if False:\n",
        "\n",
        "        print(\"Output after PreProcessing Tokens:\\n\",tokens)\n",
        "\n",
        "\n",
        "    return tokens"
      ]
    },
    {
      "cell_type": "markdown",
      "metadata": {
        "id": "cuSqxeYyhbSP"
      },
      "source": [
        "# Question 2: Basic Feature Extraction (20 marks)"
      ]
    },
    {
      "cell_type": "code",
      "execution_count": null,
      "metadata": {
        "id": "MOyfUfNohbSP"
      },
      "outputs": [],
      "source": [
        "from sklearn.feature_extraction.text import CountVectorizer\n",
        "from scipy.sparse import csr_matrix\n",
        "\n",
        "global_feature_dict = {} # A global dictionary of features\n",
        "\n",
        "def to_feature_vector(tokens):\n",
        "\n",
        "\n",
        "\n",
        "    # Should return a dictionary containing features as keys, and weights as values\n",
        "    # DESCRIBE YOUR METHOD IN WORDS\n",
        "\n",
        "    featureDict = {}  # Global feature dictionary maps from words/features to unique index\n",
        "    i = 0 # index counter variable for the global feature dict\n",
        "\n",
        "\n",
        "    \"\"\"Convert word tokens into a feature vector dictionary of\n",
        "    feature index keys and weight values.\n",
        "\n",
        "    Update the featureVector if in training phase, i.e. where training=True.\n",
        "    \"\"\"\n",
        "\n",
        "    featureVector = {}                       # local feature vector for this example (in dict form)\n",
        "\n",
        "    def generate_N_grams(text,ngram):                         #function to get N-gram tokens(in this case N=1 i:e Unigram)\n",
        "\n",
        "        words=text\n",
        "        temp=zip(*[words[i:] for i in range(0,ngram)])\n",
        "        ans=[' '.join(ngram) for ngram in temp]\n",
        "\n",
        "        return ans\n",
        "\n",
        "    unigram_token=generate_N_grams(tokens,1)\n",
        "\n",
        "\n",
        "    for w in unigram_token:\n",
        "\n",
        "        # First add to the global feature dictionary, and give it a position\n",
        "        # if in training\n",
        "        try:\n",
        "            # if the word w is in the dictionary,\n",
        "            # then assign i to its value in the dictionary\n",
        "            i = featureDict[w]\n",
        "        except KeyError:\n",
        "            # else if it's not in the dictionary,\n",
        "            # it's a new feature in training, add new entry\n",
        "            i = len(featureDict) + 1\n",
        "            featureDict[w] = i\n",
        "\n",
        "\n",
        "        # Add to local feature vector (as a dictionary entry with a weight)\n",
        "        if False:\n",
        "\n",
        "            try:\n",
        "            # if the word w is in the local feature vector (repeat word), add 1/n weight\n",
        "                featureVector[i] += 1 #(1.0/len(words))\n",
        "            except KeyError:\n",
        "            # else if it's not in the local feature vector, create the entry with 1/n weight\n",
        "                featureVector[i] = 1 #(1.0/len(words))\n",
        "\n",
        "        if True:\n",
        "            # example binary alternative to the above (just add it as 1 if present)\n",
        "            if not i in featureVector.keys():\n",
        "                featureVector[i] = 1\n",
        "    print(\"Feature Dictionary of Bigram BOW model\\n\",featureDict)\n",
        "    print(\"Feature Vector of Bigram BOW model\\n\",featureVector,\"\\n\")\n",
        "\n",
        "    return featureVector\n"
      ]
    },
    {
      "cell_type": "code",
      "execution_count": null,
      "metadata": {
        "id": "BjZvqFuwhbSP"
      },
      "outputs": [],
      "source": [
        "# TRAINING AND VALIDATING OUR CLASSIFIER\n",
        "\n",
        "def train_classifier(data):\n",
        "    print(\"Training Classifier...\")\n",
        "    pipeline =  Pipeline([('svc', LinearSVC())])\n",
        "    return SklearnClassifier(pipeline).train(data)"
      ]
    },
    {
      "cell_type": "markdown",
      "metadata": {
        "id": "DMV87mDKhbSP"
      },
      "source": [
        "# Question 3: Cross-validation (20 marks)"
      ]
    },
    {
      "cell_type": "code",
      "execution_count": null,
      "metadata": {
        "id": "KN_6lzY8hbSQ"
      },
      "outputs": [],
      "source": [
        "#solution\n",
        "from sklearn import metrics\n",
        "from sklearn.metrics import classification_report\n",
        "from statistics import mean\n",
        "\n",
        "\n",
        "def cross_validate(dataset, folds):\n",
        "\n",
        "    train=dataset\n",
        "    results =[]\n",
        "    cv_results=[]\n",
        "    cv=[]\n",
        "    prec=[]\n",
        "    rec=[]\n",
        "    f1=[]\n",
        "\n",
        "\n",
        "\n",
        "    fold_size = int(len(dataset)/folds) + 1\n",
        "\n",
        "    for i in range(0,len(dataset),int(fold_size)):\n",
        "        # insert code here that trains and tests on the 10 folds of data in the dataset\n",
        "\n",
        "\n",
        "        k_test= train[i:fold_size+i]\n",
        "        k_train= train[0:i]+train[fold_size+i: ]\n",
        "\n",
        "        k_train_label=[]\n",
        "        k_test_label=[]\n",
        "\n",
        "\n",
        "        for j in range(0,len(k_test)):\n",
        "            k_test_label.append(k_test[j][1])\n",
        "\n",
        "        print(\"Fold start on items %d - %d\" % (i, i+fold_size))\n",
        "        # FILL IN THE METHOD HERE\n",
        "\n",
        "        classifier = train_classifier(k_train)\n",
        "        k_test_true = k_test_label                   # get the ground-truth labels from the data\n",
        "        k_test_pred = predict_labels([x[0] for x in k_test], classifier)\n",
        "\n",
        "        results = precision_recall_fscore_support(k_test_true, k_test_pred ,average= 'weighted' )\n",
        "        cv.append(results)\n",
        "\n",
        "        if True:\n",
        "            print(\"Precision: %f\\nRecall: %f\\nF Score:%f \\n\" % results[:3])\n",
        "            print(\"Classification Report on 10 fold CV Test Data:\\n\",classification_report(k_test_true, k_test_pred) ,\"\\n\")\n",
        "\n",
        "\n",
        "    for q in range(0,10):\n",
        "        prec.append(cv[q][0])\n",
        "        rec.append(cv[q][1])\n",
        "        f1.append(cv[q][2])\n",
        "\n",
        "    prec_avg=mean(prec)\n",
        "    rec_avg=mean(rec)\n",
        "    f1_avg=mean(f1)\n",
        "\n",
        "\n",
        "    cv_results=[prec_avg,rec_avg,f1_avg]\n",
        "\n",
        "    print(\"\\n\\n The Average of Precision Recall F1 score across all 10 folds of Cross Validation:\")\n",
        "    return cv_results"
      ]
    },
    {
      "cell_type": "code",
      "execution_count": null,
      "metadata": {
        "id": "8-so2QGThbSQ"
      },
      "outputs": [],
      "source": [
        "# PREDICTING LABELS GIVEN A CLASSIFIER\n",
        "\n",
        "def predict_labels(samples, classifier):\n",
        "    \"\"\"Assuming preprocessed samples, return their predicted labels from the classifier model.\"\"\"\n",
        "    return classifier.classify_many(samples)\n",
        "\n",
        "def predict_label_from_raw(sample, classifier):\n",
        "    \"\"\"Assuming raw text, return its predicted label from the classifier model.\"\"\"\n",
        "    return classifier.classify(to_feature_vector(preProcess(reviewSample)))"
      ]
    },
    {
      "cell_type": "code",
      "execution_count": null,
      "metadata": {
        "id": "ogqb_ktJhbSQ"
      },
      "outputs": [],
      "source": [
        "# MAIN\n",
        "\n",
        "# loading reviews\n",
        "# initialize global lists that will be appended to by the methods below\n",
        "raw_data = []          # the filtered data from the dataset file\n",
        "train_data = []        # the pre-processed training data as a percentage of the total dataset\n",
        "test_data = []         # the pre-processed test data as a percentage of the total dataset\n",
        "\n",
        "\n",
        "# references to the data files\n",
        "data_file_path = 'fake_news.tsv'\n",
        "\n",
        "# Do the actual stuff (i.e. call the functions we've made)\n",
        "# We parse the dataset and put it in a raw data list\n",
        "print(\"Now %d rawData, %d trainData, %d testData\" % (len(raw_data), len(train_data), len(test_data)),\n",
        "      \"Preparing the dataset...\",sep='\\n')\n",
        "\n",
        "load_data(data_file_path)\n",
        "\n",
        "# We split the raw dataset into a set of training data and a set of test data (80/20)\n",
        "# You do the cross validation on the 80% (training data)\n",
        "# We print the number of training samples and the number of features before the split\n",
        "print(\"Now %d rawData, %d trainData, %d testData\" % (len(raw_data), len(train_data), len(test_data)),\n",
        "      \"Preparing training and test data...\",sep='\\n')\n",
        "\n",
        "split_and_preprocess_data(0.8)\n",
        "\n",
        "# We print the number of training samples and the number of features after the split\n",
        "print(\"After split, %d rawData, %d trainData, %d testData\" % (len(raw_data), len(train_data), len(test_data)),\n",
        "      \"Training Samples: \", len(train_data), \"Features: \", len(global_feature_dict), sep='\\n')\n"
      ]
    },
    {
      "cell_type": "code",
      "execution_count": null,
      "metadata": {
        "id": "uDjdQbgBhbSQ",
        "outputId": "0fc9902c-86e9-4858-f651-6a8a88e12e07"
      },
      "outputs": [
        {
          "name": "stdout",
          "output_type": "stream",
          "text": [
            "Fold start on items 0 - 820\n",
            "Training Classifier...\n",
            "Precision: 0.506069\n",
            "Recall: 0.579268\n",
            "F Score:0.452395 \n",
            "\n",
            "Classification Report on 10 fold CV Test Data:\n",
            "               precision    recall  f1-score   support\n",
            "\n",
            "        FAKE       0.39      0.03      0.06       339\n",
            "        REAL       0.59      0.96      0.73       481\n",
            "\n",
            "    accuracy                           0.58       820\n",
            "   macro avg       0.49      0.50      0.39       820\n",
            "weighted avg       0.51      0.58      0.45       820\n",
            " \n",
            "\n",
            "Fold start on items 820 - 1640\n",
            "Training Classifier...\n",
            "Precision: 0.479985\n",
            "Recall: 0.526829\n",
            "F Score:0.427286 \n",
            "\n",
            "Classification Report on 10 fold CV Test Data:\n",
            "               precision    recall  f1-score   support\n",
            "\n",
            "        FAKE       0.41      0.08      0.13       375\n",
            "        REAL       0.54      0.90      0.67       445\n",
            "\n",
            "    accuracy                           0.53       820\n",
            "   macro avg       0.47      0.49      0.40       820\n",
            "weighted avg       0.48      0.53      0.43       820\n",
            " \n",
            "\n",
            "Fold start on items 1640 - 2460\n",
            "Training Classifier...\n"
          ]
        },
        {
          "name": "stderr",
          "output_type": "stream",
          "text": [
            "C:\\Users\\jude sequeira\\anaconda3\\lib\\site-packages\\sklearn\\svm\\_base.py:1206: ConvergenceWarning: Liblinear failed to converge, increase the number of iterations.\n",
            "  warnings.warn(\n"
          ]
        },
        {
          "name": "stdout",
          "output_type": "stream",
          "text": [
            "Precision: 0.620551\n",
            "Recall: 0.531707\n",
            "F Score:0.389316 \n",
            "\n",
            "Classification Report on 10 fold CV Test Data:\n",
            "               precision    recall  f1-score   support\n",
            "\n",
            "        FAKE       0.72      0.03      0.06       392\n",
            "        REAL       0.53      0.99      0.69       428\n",
            "\n",
            "    accuracy                           0.53       820\n",
            "   macro avg       0.62      0.51      0.38       820\n",
            "weighted avg       0.62      0.53      0.39       820\n",
            " \n",
            "\n",
            "Fold start on items 2460 - 3280\n",
            "Training Classifier...\n",
            "Precision: 0.579829\n",
            "Recall: 0.570732\n",
            "F Score:0.442673 \n",
            "\n",
            "Classification Report on 10 fold CV Test Data:\n",
            "               precision    recall  f1-score   support\n",
            "\n",
            "        FAKE       0.59      0.04      0.08       357\n",
            "        REAL       0.57      0.98      0.72       463\n",
            "\n",
            "    accuracy                           0.57       820\n",
            "   macro avg       0.58      0.51      0.40       820\n",
            "weighted avg       0.58      0.57      0.44       820\n",
            " \n",
            "\n",
            "Fold start on items 3280 - 4100\n",
            "Training Classifier...\n",
            "Precision: 0.545871\n",
            "Recall: 0.575610\n",
            "F Score:0.461064 \n",
            "\n",
            "Classification Report on 10 fold CV Test Data:\n",
            "               precision    recall  f1-score   support\n",
            "\n",
            "        FAKE       0.50      0.06      0.11       348\n",
            "        REAL       0.58      0.96      0.72       472\n",
            "\n",
            "    accuracy                           0.58       820\n",
            "   macro avg       0.54      0.51      0.41       820\n",
            "weighted avg       0.55      0.58      0.46       820\n",
            " \n",
            "\n",
            "Fold start on items 4100 - 4920\n",
            "Training Classifier...\n",
            "Precision: 0.537889\n",
            "Recall: 0.571951\n",
            "F Score:0.469438 \n",
            "\n",
            "Classification Report on 10 fold CV Test Data:\n",
            "               precision    recall  f1-score   support\n",
            "\n",
            "        FAKE       0.48      0.08      0.14       349\n",
            "        REAL       0.58      0.94      0.72       471\n",
            "\n",
            "    accuracy                           0.57       820\n",
            "   macro avg       0.53      0.51      0.43       820\n",
            "weighted avg       0.54      0.57      0.47       820\n",
            " \n",
            "\n",
            "Fold start on items 4920 - 5740\n",
            "Training Classifier...\n",
            "Precision: 0.500959\n",
            "Recall: 0.562195\n",
            "F Score:0.452538 \n",
            "\n",
            "Classification Report on 10 fold CV Test Data:\n",
            "               precision    recall  f1-score   support\n",
            "\n",
            "        FAKE       0.40      0.06      0.10       349\n",
            "        REAL       0.57      0.93      0.71       471\n",
            "\n",
            "    accuracy                           0.56       820\n",
            "   macro avg       0.49      0.50      0.41       820\n",
            "weighted avg       0.50      0.56      0.45       820\n",
            " \n",
            "\n",
            "Fold start on items 5740 - 6560\n",
            "Training Classifier...\n",
            "Precision: 0.573190\n",
            "Recall: 0.571951\n",
            "F Score:0.455637 \n",
            "\n",
            "Classification Report on 10 fold CV Test Data:\n",
            "               precision    recall  f1-score   support\n",
            "\n",
            "        FAKE       0.57      0.06      0.12       357\n",
            "        REAL       0.57      0.96      0.72       463\n",
            "\n",
            "    accuracy                           0.57       820\n",
            "   macro avg       0.57      0.51      0.42       820\n",
            "weighted avg       0.57      0.57      0.46       820\n",
            " \n",
            "\n",
            "Fold start on items 6560 - 7380\n",
            "Training Classifier...\n",
            "Precision: 0.486772\n",
            "Recall: 0.550000\n",
            "F Score:0.419435 \n",
            "\n",
            "Classification Report on 10 fold CV Test Data:\n",
            "               precision    recall  f1-score   support\n",
            "\n",
            "        FAKE       0.40      0.03      0.06       363\n",
            "        REAL       0.56      0.96      0.70       457\n",
            "\n",
            "    accuracy                           0.55       820\n",
            "   macro avg       0.48      0.50      0.38       820\n",
            "weighted avg       0.49      0.55      0.42       820\n",
            " \n",
            "\n",
            "Fold start on items 7380 - 8200\n",
            "Training Classifier...\n",
            "Precision: 0.521145\n",
            "Recall: 0.578818\n",
            "F Score:0.476885 \n",
            "\n",
            "Classification Report on 10 fold CV Test Data:\n",
            "               precision    recall  f1-score   support\n",
            "\n",
            "        FAKE       0.42      0.07      0.12       333\n",
            "        REAL       0.59      0.93      0.72       479\n",
            "\n",
            "    accuracy                           0.58       812\n",
            "   macro avg       0.51      0.50      0.42       812\n",
            "weighted avg       0.52      0.58      0.48       812\n",
            " \n",
            "\n",
            "\n",
            "\n",
            " The Average of Precision Recall F1 score across all 10 folds of Cross Validation:\n"
          ]
        },
        {
          "data": {
            "text/plain": [
              "[0.5352259962151308, 0.5619061636429172, 0.444666835604168]"
            ]
          },
          "execution_count": 41,
          "metadata": {},
          "output_type": "execute_result"
        }
      ],
      "source": [
        "cross_validate(train_data, 10)  # will work and output overall performance of p, r, f-score when cv implemented"
      ]
    },
    {
      "cell_type": "markdown",
      "metadata": {
        "id": "_AF3rH7QhbSQ"
      },
      "source": [
        "# 4. Error Analysis (10 marks)"
      ]
    },
    {
      "cell_type": "code",
      "execution_count": null,
      "metadata": {
        "id": "M-28H2eIhbSQ"
      },
      "outputs": [],
      "source": [
        "from sklearn import metrics\n",
        "import matplotlib.pyplot as plt\n",
        "# a function to make the confusion matrix readable and pretty\n",
        "def confusion_matrix_heatmap(y_test, preds, labels):\n",
        "    \"\"\"Function to plot a confusion matrix\"\"\"\n",
        "    # pass labels to the confusion matrix function to ensure right order\n",
        "    cm = metrics.confusion_matrix(y_test, preds, labels=labels)\n",
        "    fig = plt.figure(figsize=(10,10))\n",
        "    ax = fig.add_subplot(111)\n",
        "    cax = ax.matshow(cm)\n",
        "    plt.title('Confusion matrix of the classifier')\n",
        "    fig.colorbar(cax)\n",
        "    ax.set_xticks(np.arange(len(labels)))\n",
        "    ax.set_yticks(np.arange(len(labels)))\n",
        "    ax.set_xticklabels( labels, rotation=45)\n",
        "    ax.set_yticklabels( labels)\n",
        "\n",
        "    for i in range(len(cm)):\n",
        "        for j in range(len(cm)):\n",
        "            text = ax.text(j, i, cm[i, j],\n",
        "                           ha=\"center\", va=\"center\", color=\"w\")\n",
        "\n",
        "    plt.xlabel('Predicted')\n",
        "    plt.ylabel('True')\n",
        "\n",
        "    # fix for mpl bug that cuts off top/bottom of seaborn viz:\n",
        "    b, t = plt.ylim() # discover the values for bottom and top\n",
        "    b += 0.5 # Add 0.5 to the bottom\n",
        "    t -= 0.5 # Subtract 0.5 from the top\n",
        "    plt.ylim(b, t) # update the ylim(bottom, top) values\n",
        "    plt.show() # ta-da!\n",
        "    plt.show()"
      ]
    },
    {
      "cell_type": "code",
      "execution_count": null,
      "metadata": {
        "id": "y1j3juFwhbSR",
        "outputId": "ad6b3e16-786e-4bbf-d8a6-ba6533564630"
      },
      "outputs": [
        {
          "name": "stdout",
          "output_type": "stream",
          "text": [
            "Fold start on items 0 - 820\n",
            "Training Classifier...\n"
          ]
        },
        {
          "name": "stderr",
          "output_type": "stream",
          "text": [
            "C:\\Users\\jude sequeira\\anaconda3\\lib\\site-packages\\sklearn\\svm\\_base.py:1206: ConvergenceWarning: Liblinear failed to converge, increase the number of iterations.\n",
            "  warnings.warn(\n"
          ]
        },
        {
          "data": {
            "image/png": "[encoded data removed]",
            "text/plain": [
              "<Figure size 720x720 with 2 Axes>"
            ]
          },
          "metadata": {
            "needs_background": "light"
          },
          "output_type": "display_data"
        },
        {
          "name": "stdout",
          "output_type": "stream",
          "text": [
            "Accuracy of 1st K-Fold Validation Data 0.526829268292683\n"
          ]
        }
      ],
      "source": [
        "# confusion Matrix for first fold of 10 fold cross validation\n",
        "\n",
        "from sklearn import metrics\n",
        "from sklearn.metrics import classification_report\n",
        "import statistics\n",
        "r =[]\n",
        "\n",
        "folds=10\n",
        "fold_size = int(len(train_data)/folds) + 1\n",
        "i=0\n",
        "\n",
        "k_test1= train_data[i:fold_size+i]\n",
        "k_train1= train_data[0:i]+train_data[fold_size+i: ]\n",
        "\n",
        "k_train_label1=[]\n",
        "k_test_label1=[]\n",
        "\n",
        "\n",
        "for j in range(0,len(k_test1)):\n",
        "    k_test_label1.append(k_test1[j][1])\n",
        "\n",
        "print(\"Fold start on items %d - %d\" % (i, i+fold_size))\n",
        "\n",
        "\n",
        "classifier1 = train_classifier(k_train1)\n",
        "k_test_true1 = k_test_label1                   # get the ground-truth labels for 1st fold from the data\n",
        "k_test_pred1 = predict_labels([x[0] for x in k_test1], classifier1)    #get the predicted labels from classifier for 1st fold from the data\n",
        "\n",
        "labels=['REAL', 'FAKE']\n",
        "confusion_matrix_heatmap(k_test_true1,k_test_pred1,labels)\n",
        "print(\"Accuracy of 1st K-Fold Validation Data\",accuracy_score(k_test_true1,k_test_pred1))"
      ]
    },
    {
      "cell_type": "markdown",
      "metadata": {
        "id": "3silA-omhbSR"
      },
      "source": [
        "# Questions 5 (20%) and 6 (20%) (recommend starting a new notebook)"
      ]
    },
    {
      "cell_type": "code",
      "execution_count": null,
      "metadata": {
        "id": "EyT4eAg_hbSR",
        "outputId": "5fa5d354-a409-4767-eb25-d8c592d36726"
      },
      "outputs": [
        {
          "name": "stdout",
          "output_type": "stream",
          "text": [
            "({'bush': 0, 'tax': 6, 'cut': 2, 'help': 4, 'create': 1, 'substantial': 5, 'deficit': 3}, 'REAL')\n",
            "Training Classifier...\n",
            "Done training!\n",
            "Precision: 0.515925\n",
            "Recall: 0.516837\n",
            "F Score:0.516332\n"
          ]
        },
        {
          "name": "stderr",
          "output_type": "stream",
          "text": [
            "C:\\Users\\jude sequeira\\anaconda3\\lib\\site-packages\\sklearn\\svm\\_base.py:1206: ConvergenceWarning: Liblinear failed to converge, increase the number of iterations.\n",
            "  warnings.warn(\n"
          ]
        }
      ],
      "source": [
        "# Finally, check the accuracy of your classifier by training on all the traning data\n",
        "# and testing on the test set\n",
        "# Will only work once all functions are complete\n",
        "functions_complete = False  # set to True once you're happy with your methods for cross val\n",
        "if functions_complete:\n",
        "    print(test_data[0])   # have a look at the first test data instance\n",
        "    classifier = train_classifier(train_data)  # train the classifier\n",
        "    test_true = [t[1] for t in test_data]   # get the ground-truth labels from the data\n",
        "    test_pred = predict_labels([x[0] for x in test_data], classifier)  # classify the test data to get predicted labels\n",
        "    final_scores = precision_recall_fscore_support(test_true, test_pred, average='weighted') # evaluate\n",
        "    print(\"Done training!\")\n",
        "    print(\"Precision: %f\\nRecall: %f\\nF Score:%f\" % final_scores[:3])"
      ]
    },
    {
      "cell_type": "code",
      "execution_count": null,
      "metadata": {
        "id": "4I7nkl6thbSR"
      },
      "outputs": [],
      "source": []
    },
    {
      "cell_type": "code",
      "execution_count": null,
      "metadata": {
        "id": "-8b-3vMuhbSR"
      },
      "outputs": [],
      "source": []
    }
  ],
  "metadata": {
    "kernelspec": {
      "display_name": "Python 3 (ipykernel)",
      "language": "python",
      "name": "python3"
    },
    "language_info": {
      "codemirror_mode": {
        "name": "ipython",
        "version": 3
      },
      "file_extension": ".py",
      "mimetype": "text/x-python",
      "name": "python",
      "nbconvert_exporter": "python",
      "pygments_lexer": "ipython3",
      "version": "3.9.12"
    },
    "colab": {
      "provenance": [],
      "include_colab_link": true
    }
  },
  "nbformat": 4,
  "nbformat_minor": 0
}